{
 "cells": [
  {
   "cell_type": "code",
   "execution_count": 2,
   "metadata": {},
   "outputs": [],
   "source": [
    "from neo4j import GraphDatabase"
   ]
  },
  {
   "cell_type": "code",
   "execution_count": 9,
   "metadata": {},
   "outputs": [],
   "source": [
    "driver = GraphDatabase.driver('bolt://localhost:7687',auth=('neo4j','1'))"
   ]
  },
  {
   "cell_type": "code",
   "execution_count": 53,
   "metadata": {},
   "outputs": [],
   "source": [
    "name = \"ALA\"\n",
    "title = \"ALA THE MOVIE\"\n",
    "\n",
    "def create_actor(tx,name):\n",
    "    result = tx.run(f'CREATE (a:Actor{{name: \"{name}\"}}) RETURN a')\n",
    "#     print(list(result))\n",
    "        \n",
    "def create_movie(tx,name):\n",
    "    result = tx.run(f'CREATE (m:Movie{{title: \"{title}\"}}) RETURN m')\n",
    "#     print(list(result))\n",
    "     \n",
    "def create_relation(tx,name,title):\n",
    "    result = tx.run(f'''\n",
    "            MATCH (a:Actor{{name: \"{name}\"}}),(m:Movie{{title: \"{title}\"}})\n",
    "            CREATE (a) -[:ACTS_IN]-> (m)\n",
    "            ''')\n",
    "#     print(list(result))\n",
    "    \n",
    "with driver.session() as session:\n",
    "    session.write_transaction(create_actor,name)\n",
    "    session.write_transaction(create_movie,title)\n",
    "    session.write_transaction(create_relation,name,title)"
   ]
  },
  {
   "cell_type": "code",
   "execution_count": 54,
   "metadata": {},
   "outputs": [],
   "source": [
    "birthplace = 'Miasto zwane Miastem'\n",
    "birthdate = '99-99-9999'\n",
    "\n",
    "def set_actor(tx,name,birthplace,birthdate):\n",
    "    result = tx.run(f'''\n",
    "            MATCH (a:Actor{{name: \"{name}\"}})\n",
    "            SET a.birthplace = \"{birthplace}\"\n",
    "            SET a.birthdate = \"{birthdate}\"\n",
    "            ''')\n",
    "#     print(list(result))\n",
    "           \n",
    "with driver.session() as session:\n",
    "    session.write_transaction(set_actor,name,birthplace,birthdate)"
   ]
  },
  {
   "cell_type": "code",
   "execution_count": 56,
   "metadata": {},
   "outputs": [],
   "source": [
    "def count_query(tx):\n",
    "    result = tx.run(f'''\n",
    "            MATCH (a:Actor) -[r:ACTS_IN]->() WITH a, length(collect(r)) as c WHERE c > 6 RETURN a\n",
    "            ''')\n",
    "#     print(list(result))\n",
    "    \n",
    "with driver.session() as session:\n",
    "    session.read_transaction(count_query)"
   ]
  },
  {
   "cell_type": "code",
   "execution_count": 57,
   "metadata": {},
   "outputs": [
    {
     "name": "stdout",
     "output_type": "stream",
     "text": [
      "[<Record AVG(c)=14.071654373024238>]\n"
     ]
    }
   ],
   "source": [
    "def avg_query(tx):\n",
    "    result = tx.run(f'''\n",
    "                    MATCH (a:Actor) -[r:ACTS_IN]->() WITH a, length(collect(r)) as c WHERE c > 7 RETURN AVG(c)\n",
    "                    ''')\n",
    "#     print(list(result))\n",
    "\n",
    "with driver.session() as session:\n",
    "    session.read_transaction(avg_query)"
   ]
  },
  {
   "cell_type": "code",
   "execution_count": 59,
   "metadata": {},
   "outputs": [],
   "source": [
    "def actor_director_query(tx):\n",
    "    result = tx.run(f'''\n",
    "                    MATCH ()<-[r2:DIRECTED]- (a:Actor) -[r1:ACTS_IN]->() \n",
    "                    WITH a, COUNT(r1) AS c1, COUNT(r2) AS c2 \n",
    "                    WHERE c1 > 5 AND c2 > 1\n",
    "                    RETURN a\n",
    "                    ORDER BY c1\n",
    "                    ''')\n",
    "#     print(list(result))\n",
    "\n",
    "with driver.session() as session:\n",
    "    session.read_transaction(actor_director_query)"
   ]
  },
  {
   "cell_type": "code",
   "execution_count": 62,
   "metadata": {},
   "outputs": [],
   "source": [
    "login = 'maheshksp'\n",
    "def friend_rate_query(tx,login):\n",
    "    result = tx.run(f'''\n",
    "                    MATCH (u:User{{login: \"{login}\"}}) -[:FRIEND] -> (f:User) -[r:RATED] -> (m:Movie) \n",
    "                    WHERE r.stars > 2 \n",
    "                    RETURN f,m.title,r.stars\n",
    "                    ''')\n",
    "#     print(list(result))\n",
    "    \n",
    "with driver.session() as session:\n",
    "    session.read_transaction(friend_rate_query,login)"
   ]
  },
  {
   "cell_type": "markdown",
   "metadata": {},
   "source": [
    "## TODO\n",
    "10. Zapytanie o ścieżki między wybranymi aktorami (np.2), w ścieżkach mają nie znajdować się filmy (funkcja filter(), [x IN xs WHERE predicate | extraction])\n",
    "11. Porównać czas wykonania zapytania o wybranego aktora bez oraz z indeksem w bazie nałożonym na atrybut name (DROP INDEX i CREATE INDEX oraz użyć komendy EXPLAIN lub PROFILE), dokonać porównania dla zapytania shortestPath pomiędzy dwoma wybranymi aktorami."
   ]
  },
  {
   "cell_type": "code",
   "execution_count": null,
   "metadata": {},
   "outputs": [],
   "source": []
  }
 ],
 "metadata": {
  "kernelspec": {
   "display_name": "Python 3",
   "language": "python",
   "name": "python3"
  },
  "language_info": {
   "codemirror_mode": {
    "name": "ipython",
    "version": 3
   },
   "file_extension": ".py",
   "mimetype": "text/x-python",
   "name": "python",
   "nbconvert_exporter": "python",
   "pygments_lexer": "ipython3",
   "version": "3.7.1"
  }
 },
 "nbformat": 4,
 "nbformat_minor": 2
}
